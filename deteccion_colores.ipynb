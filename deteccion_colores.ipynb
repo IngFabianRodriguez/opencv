{
 "cells": [
  {
   "cell_type": "code",
   "execution_count": 17,
   "metadata": {},
   "outputs": [],
   "source": [
    "import cv2\n",
    "import numpy as np"
   ]
  },
  {
   "cell_type": "code",
   "execution_count": 18,
   "metadata": {},
   "outputs": [],
   "source": [
    "cap = cv2.VideoCapture(0)"
   ]
  },
  {
   "cell_type": "code",
   "execution_count": 19,
   "metadata": {},
   "outputs": [],
   "source": [
    "azulBajo = np.array([100, 100, 20], np.uint8)\n",
    "azulAlto = np.array([125, 255, 255], np.uint8)"
   ]
  },
  {
   "cell_type": "code",
   "execution_count": 20,
   "metadata": {},
   "outputs": [],
   "source": [
    "rojoBajo1 = np.array([0, 100, 20], np.uint8)\n",
    "rojoAlto1 = np.array([10, 255, 255], np.uint8)\n",
    "rojoBajo2 = np.array([175, 100, 20], np.uint8)\n",
    "rojoAlto2 = np.array([179, 255, 255], np.uint8)"
   ]
  },
  {
   "cell_type": "code",
   "execution_count": 21,
   "metadata": {},
   "outputs": [],
   "source": [
    "amarilloBajo = np.array([15, 100, 20], np.uint8)\n",
    "amarilloAlto = np.array([45, 255, 255], np.uint8)"
   ]
  },
  {
   "cell_type": "code",
   "execution_count": 22,
   "metadata": {},
   "outputs": [],
   "source": [
    "font = cv2.FONT_HERSHEY_SIMPLEX"
   ]
  },
  {
   "cell_type": "code",
   "execution_count": 23,
   "metadata": {},
   "outputs": [],
   "source": [
    "def dibujar(mask, color, frame):\n",
    "    contornos, _ = cv2.findContours(mask, cv2.RETR_EXTERNAL, cv2.CHAIN_APPROX_SIMPLE)\n",
    "    for c in contornos:\n",
    "        area = cv2.contourArea(c)\n",
    "        if area > 2000:\n",
    "            M = cv2.moments(c)\n",
    "            if M[\"m00\"] == 0:\n",
    "                M[\"m00\"] = 1\n",
    "            x = int(M[\"m10\"] / M[\"m00\"])\n",
    "            y = int(M[\"m01\"] / M[\"m00\"])\n",
    "            nuevo_contorno = cv2.convexHull(c)\n",
    "            cv2.circle(frame, (x, y), 7, (0, 255, 0), -1)\n",
    "            cv2.putText(\n",
    "                frame,\n",
    "                \"{},{}\".format(x, y),\n",
    "                (x + 10, y),\n",
    "                font,\n",
    "                0.75,\n",
    "                (0, 255, 0),\n",
    "                1,\n",
    "                cv2.LINE_AA,\n",
    "            )\n",
    "            cv2.drawContours(frame, [nuevo_contorno], 0, color, 3)"
   ]
  },
  {
   "cell_type": "code",
   "execution_count": 24,
   "metadata": {},
   "outputs": [
    {
     "ename": "KeyboardInterrupt",
     "evalue": "",
     "output_type": "error",
     "traceback": [
      "\u001b[1;31m---------------------------------------------------------------------------\u001b[0m",
      "\u001b[1;31mKeyboardInterrupt\u001b[0m                         Traceback (most recent call last)",
      "Cell \u001b[1;32mIn[24], line 14\u001b[0m\n\u001b[0;32m     12\u001b[0m         dibujar(maskAmarillo,(\u001b[38;5;241m0\u001b[39m,\u001b[38;5;241m255\u001b[39m,\u001b[38;5;241m255\u001b[39m), frame\u001b[38;5;241m=\u001b[39mframe)\n\u001b[0;32m     13\u001b[0m         cv2\u001b[38;5;241m.\u001b[39mimshow(\u001b[38;5;124m'\u001b[39m\u001b[38;5;124mframe\u001b[39m\u001b[38;5;124m'\u001b[39m,frame)\n\u001b[1;32m---> 14\u001b[0m         \u001b[38;5;28;01mif\u001b[39;00m \u001b[43mcv2\u001b[49m\u001b[38;5;241;43m.\u001b[39;49m\u001b[43mwaitKey\u001b[49m\u001b[43m(\u001b[49m\u001b[38;5;241;43m1\u001b[39;49m\u001b[43m)\u001b[49m \u001b[38;5;241m&\u001b[39m \u001b[38;5;241m0xFF\u001b[39m \u001b[38;5;241m==\u001b[39m \u001b[38;5;28mord\u001b[39m(\u001b[38;5;124m'\u001b[39m\u001b[38;5;124ms\u001b[39m\u001b[38;5;124m'\u001b[39m):\n\u001b[0;32m     15\u001b[0m             \u001b[38;5;28;01mbreak\u001b[39;00m\n\u001b[0;32m     17\u001b[0m cap\u001b[38;5;241m.\u001b[39mrelease()\n",
      "\u001b[1;31mKeyboardInterrupt\u001b[0m: "
     ]
    }
   ],
   "source": [
    "while True:\n",
    "    ret, frame = cap.read()\n",
    "    if ret == True:\n",
    "        frameHSV = cv2.cvtColor(frame, cv2.COLOR_BGR2HSV)\n",
    "        maskAzul = cv2.inRange(frameHSV, azulBajo, azulAlto)\n",
    "        maskRojo1 = cv2.inRange(frameHSV, rojoBajo1, rojoAlto1)\n",
    "        maskRojo2 = cv2.inRange(frameHSV, rojoBajo2, rojoAlto2)\n",
    "        maskRojo = cv2.add(maskRojo1, maskRojo2)\n",
    "        maskAmarillo = cv2.inRange(frameHSV, amarilloBajo, amarilloAlto)\n",
    "        dibujar(maskAzul, (255, 0, 0), frame=frame)\n",
    "        dibujar(maskRojo, (0, 0, 255), frame=frame)\n",
    "        dibujar(maskAmarillo, (0, 255, 255), frame=frame)\n",
    "        cv2.imshow(\"frame\", frame)\n",
    "        if cv2.waitKey(1) & 0xFF == ord(\"s\"):\n",
    "            break\n",
    "\n",
    "cap.release()\n",
    "cv2.destroyAllWindows()"
   ]
  }
 ],
 "metadata": {
  "kernelspec": {
   "display_name": "venv",
   "language": "python",
   "name": "python3"
  },
  "language_info": {
   "codemirror_mode": {
    "name": "ipython",
    "version": 3
   },
   "file_extension": ".py",
   "mimetype": "text/x-python",
   "name": "python",
   "nbconvert_exporter": "python",
   "pygments_lexer": "ipython3",
   "version": "3.12.0"
  }
 },
 "nbformat": 4,
 "nbformat_minor": 2
}
